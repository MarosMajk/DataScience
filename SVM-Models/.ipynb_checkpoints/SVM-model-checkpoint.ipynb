{
 "cells": [
  {
   "cell_type": "code",
   "execution_count": 101,
   "metadata": {},
   "outputs": [],
   "source": [
    "# TUKE - Katedra kybernetiky a umelej inteligencie\n",
    "# Maroš Stredanský\n",
    "# Strojové učenie\n",
    "\n",
    "# SVM - Support vector machine"
   ]
  },
  {
   "cell_type": "code",
   "execution_count": 102,
   "metadata": {},
   "outputs": [],
   "source": [
    "import pandas as pd\n",
    "import numpy as np\n",
    "from sklearn.svm import SVR\n",
    "import matplotlib.pyplot as plt"
   ]
  },
  {
   "cell_type": "code",
   "execution_count": 114,
   "metadata": {},
   "outputs": [
    {
     "data": {
      "text/html": [
       "<div>\n",
       "<style scoped>\n",
       "    .dataframe tbody tr th:only-of-type {\n",
       "        vertical-align: middle;\n",
       "    }\n",
       "\n",
       "    .dataframe tbody tr th {\n",
       "        vertical-align: top;\n",
       "    }\n",
       "\n",
       "    .dataframe thead th {\n",
       "        text-align: right;\n",
       "    }\n",
       "</style>\n",
       "<table border=\"1\" class=\"dataframe\">\n",
       "  <thead>\n",
       "    <tr style=\"text-align: right;\">\n",
       "      <th></th>\n",
       "      <th>Date</th>\n",
       "      <th>Open</th>\n",
       "      <th>High</th>\n",
       "      <th>Low</th>\n",
       "      <th>Close</th>\n",
       "      <th>Adj Close</th>\n",
       "      <th>Volume</th>\n",
       "    </tr>\n",
       "  </thead>\n",
       "  <tbody>\n",
       "    <tr>\n",
       "      <th>0</th>\n",
       "      <td>2020-03-02</td>\n",
       "      <td>373.109985</td>\n",
       "      <td>381.359985</td>\n",
       "      <td>364.500000</td>\n",
       "      <td>381.049988</td>\n",
       "      <td>381.049988</td>\n",
       "      <td>6997900</td>\n",
       "    </tr>\n",
       "    <tr>\n",
       "      <th>1</th>\n",
       "      <td>2020-03-03</td>\n",
       "      <td>381.029999</td>\n",
       "      <td>393.519989</td>\n",
       "      <td>367.399994</td>\n",
       "      <td>368.769989</td>\n",
       "      <td>368.769989</td>\n",
       "      <td>8364600</td>\n",
       "    </tr>\n",
       "    <tr>\n",
       "      <th>2</th>\n",
       "      <td>2020-03-04</td>\n",
       "      <td>377.769989</td>\n",
       "      <td>384.010010</td>\n",
       "      <td>370.510010</td>\n",
       "      <td>383.790009</td>\n",
       "      <td>383.790009</td>\n",
       "      <td>5487300</td>\n",
       "    </tr>\n",
       "    <tr>\n",
       "      <th>3</th>\n",
       "      <td>2020-03-05</td>\n",
       "      <td>381.000000</td>\n",
       "      <td>391.399994</td>\n",
       "      <td>368.640015</td>\n",
       "      <td>372.779999</td>\n",
       "      <td>372.779999</td>\n",
       "      <td>8747000</td>\n",
       "    </tr>\n",
       "    <tr>\n",
       "      <th>4</th>\n",
       "      <td>2020-03-06</td>\n",
       "      <td>367.700012</td>\n",
       "      <td>371.309998</td>\n",
       "      <td>356.850006</td>\n",
       "      <td>368.970001</td>\n",
       "      <td>368.970001</td>\n",
       "      <td>8147200</td>\n",
       "    </tr>\n",
       "    <tr>\n",
       "      <th>5</th>\n",
       "      <td>2020-03-09</td>\n",
       "      <td>343.859985</td>\n",
       "      <td>357.470001</td>\n",
       "      <td>341.720001</td>\n",
       "      <td>346.489990</td>\n",
       "      <td>346.489990</td>\n",
       "      <td>7405500</td>\n",
       "    </tr>\n",
       "    <tr>\n",
       "      <th>6</th>\n",
       "      <td>2020-03-10</td>\n",
       "      <td>356.429993</td>\n",
       "      <td>364.540009</td>\n",
       "      <td>347.850006</td>\n",
       "      <td>364.130005</td>\n",
       "      <td>364.130005</td>\n",
       "      <td>7604400</td>\n",
       "    </tr>\n",
       "  </tbody>\n",
       "</table>\n",
       "</div>"
      ],
      "text/plain": [
       "         Date        Open        High         Low       Close   Adj Close  \\\n",
       "0  2020-03-02  373.109985  381.359985  364.500000  381.049988  381.049988   \n",
       "1  2020-03-03  381.029999  393.519989  367.399994  368.769989  368.769989   \n",
       "2  2020-03-04  377.769989  384.010010  370.510010  383.790009  383.790009   \n",
       "3  2020-03-05  381.000000  391.399994  368.640015  372.779999  372.779999   \n",
       "4  2020-03-06  367.700012  371.309998  356.850006  368.970001  368.970001   \n",
       "5  2020-03-09  343.859985  357.470001  341.720001  346.489990  346.489990   \n",
       "6  2020-03-10  356.429993  364.540009  347.850006  364.130005  364.130005   \n",
       "\n",
       "    Volume  \n",
       "0  6997900  \n",
       "1  8364600  \n",
       "2  5487300  \n",
       "3  8747000  \n",
       "4  8147200  \n",
       "5  7405500  \n",
       "6  7604400  "
      ]
     },
     "execution_count": 114,
     "metadata": {},
     "output_type": "execute_result"
    }
   ],
   "source": [
    "dataset = pd.read_csv(\"NFLX.csv\")\n",
    "dataset.head(7)"
   ]
  },
  {
   "cell_type": "markdown",
   "metadata": {},
   "source": []
  },
  {
   "cell_type": "code",
   "execution_count": 115,
   "metadata": {},
   "outputs": [
    {
     "data": {
      "text/plain": [
       "(21, 7)"
      ]
     },
     "execution_count": 115,
     "metadata": {},
     "output_type": "execute_result"
    }
   ],
   "source": [
    "dates = []\n",
    "prices = []\n",
    "#riadky | stlpce\n",
    "dataset.shape"
   ]
  },
  {
   "cell_type": "code",
   "execution_count": 116,
   "metadata": {},
   "outputs": [
    {
     "data": {
      "text/html": [
       "<div>\n",
       "<style scoped>\n",
       "    .dataframe tbody tr th:only-of-type {\n",
       "        vertical-align: middle;\n",
       "    }\n",
       "\n",
       "    .dataframe tbody tr th {\n",
       "        vertical-align: top;\n",
       "    }\n",
       "\n",
       "    .dataframe thead th {\n",
       "        text-align: right;\n",
       "    }\n",
       "</style>\n",
       "<table border=\"1\" class=\"dataframe\">\n",
       "  <thead>\n",
       "    <tr style=\"text-align: right;\">\n",
       "      <th></th>\n",
       "      <th>Date</th>\n",
       "      <th>Open</th>\n",
       "      <th>High</th>\n",
       "      <th>Low</th>\n",
       "      <th>Close</th>\n",
       "      <th>Adj Close</th>\n",
       "      <th>Volume</th>\n",
       "    </tr>\n",
       "  </thead>\n",
       "  <tbody>\n",
       "    <tr>\n",
       "      <th>20</th>\n",
       "      <td>2020-03-30</td>\n",
       "      <td>363.0</td>\n",
       "      <td>377.799988</td>\n",
       "      <td>361.170013</td>\n",
       "      <td>370.959991</td>\n",
       "      <td>370.959991</td>\n",
       "      <td>8622000</td>\n",
       "    </tr>\n",
       "  </tbody>\n",
       "</table>\n",
       "</div>"
      ],
      "text/plain": [
       "          Date   Open        High         Low       Close   Adj Close   Volume\n",
       "20  2020-03-30  363.0  377.799988  361.170013  370.959991  370.959991  8622000"
      ]
     },
     "execution_count": 116,
     "metadata": {},
     "output_type": "execute_result"
    }
   ],
   "source": [
    "dataset.tail(1)"
   ]
  },
  {
   "cell_type": "code",
   "execution_count": 117,
   "metadata": {},
   "outputs": [
    {
     "name": "stdout",
     "output_type": "stream",
     "text": [
      "(20, 7)\n"
     ]
    }
   ],
   "source": [
    "dataset = dataset.head(len(dataset)-1)\n",
    "print(dataset.shape)\n",
    "\n",
    "dataset_dates = dataset.loc[:,'Date'] \n",
    "#get all of the rows from the Date column\n"
   ]
  },
  {
   "cell_type": "code",
   "execution_count": 118,
   "metadata": {},
   "outputs": [],
   "source": [
    "dataset_open = dataset.loc[:,'Open']\n",
    "#get all of the rows from the Open column"
   ]
  },
  {
   "cell_type": "code",
   "execution_count": 119,
   "metadata": {},
   "outputs": [],
   "source": [
    "# Create the independent data set 'X' as dates\n",
    "for date in dataset_dates:\n",
    "    dates.append( [int(date.split('-')[2])])\n"
   ]
  },
  {
   "cell_type": "code",
   "execution_count": 120,
   "metadata": {},
   "outputs": [],
   "source": [
    "#Create the dependent data set 'Y' as prices\n",
    "for open_price in dataset_open:\n",
    "    prices.append(float(open_price))"
   ]
  },
  {
   "cell_type": "code",
   "execution_count": 121,
   "metadata": {},
   "outputs": [
    {
     "name": "stdout",
     "output_type": "stream",
     "text": [
      "[[2], [3], [4], [5], [6], [9], [10], [11], [12], [13], [16], [17], [18], [19], [20], [23], [24], [25], [26], [27]]\n"
     ]
    }
   ],
   "source": [
    "print(dates)"
   ]
  },
  {
   "cell_type": "code",
   "execution_count": 122,
   "metadata": {},
   "outputs": [],
   "source": [
    "def prediction_model(dates, prices, x):\n",
    "  \n",
    "  #Create 3 Support Vector Regression Models\n",
    "  svr_lin = SVR(kernel='linear', C=1e3)\n",
    "  svr_poly = SVR(kernel='poly', C=1e3, degree=2)\n",
    "  svr_rbf = SVR(kernel='rbf', C=1e3, gamma=0.1)\n",
    "  \n",
    "  #Train the models on the dates and prices\n",
    "  svr_lin.fit(dates,prices)\n",
    "  svr_poly.fit(dates, prices)\n",
    "  svr_rbf.fit(dates, prices)\n",
    "  \n",
    "  #Plot the models on a graph to see which has the best fit\n",
    "  plt.scatter(dates, prices, color = 'black', label='Data')\n",
    "  plt.plot(dates, svr_rbf.predict(dates), color = 'red', label='RBF model')\n",
    "  plt.plot(dates, svr_lin.predict(dates), color = 'green', label='Linear model')\n",
    "  plt.plot(dates, svr_poly.predict(dates), color = 'blue', label='Polynomial model')\n",
    "  plt.xlabel('Date')\n",
    "  plt.ylabel('Price')\n",
    "  plt.title('Support Vector Regression')\n",
    "  plt.legend()\n",
    "  plt.show()\n",
    "  \n",
    "  #return all three model predictions\n",
    "  return svr_rbf.predict(x)[0], svr_lin.predict(x)[0], svr_poly.predict(x)[0]"
   ]
  },
  {
   "cell_type": "code",
   "execution_count": 123,
   "metadata": {},
   "outputs": [
    {
     "data": {
      "image/png": "[encoded data removed]",
      "text/plain": [
       "<Figure size 432x288 with 1 Axes>"
      ]
     },
     "metadata": {
      "needs_background": "light"
     },
     "output_type": "display_data"
    }
   ],
   "source": [
    "plt.scatter(dates, prices, color = 'black', label='Data')\n",
    "plt.grid()\n",
    "plt.show()"
   ]
  },
  {
   "cell_type": "code",
   "execution_count": 124,
   "metadata": {},
   "outputs": [
    {
     "data": {
      "image/png": "[encoded data removed]",
      "text/plain": [
       "<Figure size 432x288 with 1 Axes>"
      ]
     },
     "metadata": {
      "needs_background": "light"
     },
     "output_type": "display_data"
    },
    {
     "name": "stdout",
     "output_type": "stream",
     "text": [
      "(358.990091725618, 342.89199913322875, 342.7728646230913)\n"
     ]
    }
   ],
   "source": [
    "future_price = prediction_model(dates, prices, [[27]])\n",
    "print(future_price)"
   ]
  }
 ],
 "metadata": {
  "kernelspec": {
   "display_name": "Python 3",
   "language": "python",
   "name": "python3"
  },
  "language_info": {
   "codemirror_mode": {
    "name": "ipython",
    "version": 3
   },
   "file_extension": ".py",
   "mimetype": "text/x-python",
   "name": "python",
   "nbconvert_exporter": "python",
   "pygments_lexer": "ipython3",
   "version": "3.7.5"
  }
 },
 "nbformat": 4,
 "nbformat_minor": 4
}

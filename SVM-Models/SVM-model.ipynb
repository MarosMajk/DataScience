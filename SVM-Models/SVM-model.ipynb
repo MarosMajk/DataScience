{
 "cells": [
  {
   "cell_type": "code",
   "execution_count": 1,
   "metadata": {},
   "outputs": [],
   "source": [
    "# TUKE - Katedra kybernetiky a umelej inteligencie\n",
    "# Maroš Stredanský\n",
    "# Strojové učenie\n",
    "\n",
    "# SVM - Support vector machine"
   ]
  },
  {
   "cell_type": "code",
   "execution_count": 44,
   "metadata": {},
   "outputs": [],
   "source": [
    "import pandas as pd\n",
    "import numpy as np\n",
    "from sklearn.svm import SVR\n",
    "import matplotlib.pyplot as plt"
   ]
  },
  {
   "cell_type": "code",
   "execution_count": 45,
   "metadata": {},
   "outputs": [
    {
     "data": {
      "text/html": [
       "<div>\n",
       "<style scoped>\n",
       "    .dataframe tbody tr th:only-of-type {\n",
       "        vertical-align: middle;\n",
       "    }\n",
       "\n",
       "    .dataframe tbody tr th {\n",
       "        vertical-align: top;\n",
       "    }\n",
       "\n",
       "    .dataframe thead th {\n",
       "        text-align: right;\n",
       "    }\n",
       "</style>\n",
       "<table border=\"1\" class=\"dataframe\">\n",
       "  <thead>\n",
       "    <tr style=\"text-align: right;\">\n",
       "      <th></th>\n",
       "      <th>Date</th>\n",
       "      <th>Open</th>\n",
       "      <th>High</th>\n",
       "      <th>Low</th>\n",
       "      <th>Close</th>\n",
       "      <th>Adj Close</th>\n",
       "      <th>Volume</th>\n",
       "    </tr>\n",
       "  </thead>\n",
       "  <tbody>\n",
       "    <tr>\n",
       "      <th>0</th>\n",
       "      <td>2020-03-26</td>\n",
       "      <td>344.000000</td>\n",
       "      <td>363.839996</td>\n",
       "      <td>341.730011</td>\n",
       "      <td>362.989990</td>\n",
       "      <td>362.989990</td>\n",
       "      <td>7229600</td>\n",
       "    </tr>\n",
       "    <tr>\n",
       "      <th>1</th>\n",
       "      <td>2020-03-27</td>\n",
       "      <td>359.089996</td>\n",
       "      <td>368.559998</td>\n",
       "      <td>353.000000</td>\n",
       "      <td>357.119995</td>\n",
       "      <td>357.119995</td>\n",
       "      <td>7948800</td>\n",
       "    </tr>\n",
       "    <tr>\n",
       "      <th>2</th>\n",
       "      <td>2020-03-30</td>\n",
       "      <td>363.000000</td>\n",
       "      <td>377.799988</td>\n",
       "      <td>361.170013</td>\n",
       "      <td>370.959991</td>\n",
       "      <td>370.959991</td>\n",
       "      <td>8622000</td>\n",
       "    </tr>\n",
       "    <tr>\n",
       "      <th>3</th>\n",
       "      <td>2020-03-31</td>\n",
       "      <td>367.929993</td>\n",
       "      <td>383.010010</td>\n",
       "      <td>366.440002</td>\n",
       "      <td>375.500000</td>\n",
       "      <td>375.500000</td>\n",
       "      <td>9366500</td>\n",
       "    </tr>\n",
       "    <tr>\n",
       "      <th>4</th>\n",
       "      <td>2020-04-01</td>\n",
       "      <td>376.049988</td>\n",
       "      <td>380.230011</td>\n",
       "      <td>361.019989</td>\n",
       "      <td>364.079987</td>\n",
       "      <td>364.079987</td>\n",
       "      <td>6672500</td>\n",
       "    </tr>\n",
       "    <tr>\n",
       "      <th>5</th>\n",
       "      <td>2020-04-02</td>\n",
       "      <td>364.079987</td>\n",
       "      <td>370.989990</td>\n",
       "      <td>360.059998</td>\n",
       "      <td>370.079987</td>\n",
       "      <td>370.079987</td>\n",
       "      <td>4592500</td>\n",
       "    </tr>\n",
       "    <tr>\n",
       "      <th>6</th>\n",
       "      <td>2020-04-03</td>\n",
       "      <td>367.470001</td>\n",
       "      <td>370.899994</td>\n",
       "      <td>357.510010</td>\n",
       "      <td>361.760010</td>\n",
       "      <td>361.760010</td>\n",
       "      <td>4860800</td>\n",
       "    </tr>\n",
       "  </tbody>\n",
       "</table>\n",
       "</div>"
      ],
      "text/plain": [
       "         Date        Open        High         Low       Close   Adj Close  \\\n",
       "0  2020-03-26  344.000000  363.839996  341.730011  362.989990  362.989990   \n",
       "1  2020-03-27  359.089996  368.559998  353.000000  357.119995  357.119995   \n",
       "2  2020-03-30  363.000000  377.799988  361.170013  370.959991  370.959991   \n",
       "3  2020-03-31  367.929993  383.010010  366.440002  375.500000  375.500000   \n",
       "4  2020-04-01  376.049988  380.230011  361.019989  364.079987  364.079987   \n",
       "5  2020-04-02  364.079987  370.989990  360.059998  370.079987  370.079987   \n",
       "6  2020-04-03  367.470001  370.899994  357.510010  361.760010  361.760010   \n",
       "\n",
       "    Volume  \n",
       "0  7229600  \n",
       "1  7948800  \n",
       "2  8622000  \n",
       "3  9366500  \n",
       "4  6672500  \n",
       "5  4592500  \n",
       "6  4860800  "
      ]
     },
     "execution_count": 45,
     "metadata": {},
     "output_type": "execute_result"
    }
   ],
   "source": [
    "dataset = pd.read_csv(\"NFLX.csv\")\n",
    "dataset.head(7)"
   ]
  },
  {
   "cell_type": "markdown",
   "metadata": {},
   "source": []
  },
  {
   "cell_type": "code",
   "execution_count": 46,
   "metadata": {},
   "outputs": [
    {
     "data": {
      "text/plain": [
       "(21, 7)"
      ]
     },
     "execution_count": 46,
     "metadata": {},
     "output_type": "execute_result"
    }
   ],
   "source": [
    "dates = []\n",
    "prices = []\n",
    "#riadky | stlpce\n",
    "dataset.shape"
   ]
  },
  {
   "cell_type": "code",
   "execution_count": 47,
   "metadata": {},
   "outputs": [
    {
     "data": {
      "text/html": [
       "<div>\n",
       "<style scoped>\n",
       "    .dataframe tbody tr th:only-of-type {\n",
       "        vertical-align: middle;\n",
       "    }\n",
       "\n",
       "    .dataframe tbody tr th {\n",
       "        vertical-align: top;\n",
       "    }\n",
       "\n",
       "    .dataframe thead th {\n",
       "        text-align: right;\n",
       "    }\n",
       "</style>\n",
       "<table border=\"1\" class=\"dataframe\">\n",
       "  <thead>\n",
       "    <tr style=\"text-align: right;\">\n",
       "      <th></th>\n",
       "      <th>Date</th>\n",
       "      <th>Open</th>\n",
       "      <th>High</th>\n",
       "      <th>Low</th>\n",
       "      <th>Close</th>\n",
       "      <th>Adj Close</th>\n",
       "      <th>Volume</th>\n",
       "    </tr>\n",
       "  </thead>\n",
       "  <tbody>\n",
       "    <tr>\n",
       "      <th>20</th>\n",
       "      <td>2020-04-24</td>\n",
       "      <td>425.0</td>\n",
       "      <td>427.170013</td>\n",
       "      <td>415.880005</td>\n",
       "      <td>424.98999</td>\n",
       "      <td>424.98999</td>\n",
       "      <td>8658900</td>\n",
       "    </tr>\n",
       "  </tbody>\n",
       "</table>\n",
       "</div>"
      ],
      "text/plain": [
       "          Date   Open        High         Low      Close  Adj Close   Volume\n",
       "20  2020-04-24  425.0  427.170013  415.880005  424.98999  424.98999  8658900"
      ]
     },
     "execution_count": 47,
     "metadata": {},
     "output_type": "execute_result"
    }
   ],
   "source": [
    "dataset.tail(1)"
   ]
  },
  {
   "cell_type": "code",
   "execution_count": 48,
   "metadata": {},
   "outputs": [
    {
     "name": "stdout",
     "output_type": "stream",
     "text": [
      "(20, 7)\n"
     ]
    }
   ],
   "source": [
    "dataset = dataset.head(len(dataset)-1)\n",
    "print(dataset.shape)\n",
    "\n",
    "dataset_dates = data_set.loc[:,'Date'] \n",
    "#get all of the rows from the Date column\n"
   ]
  },
  {
   "cell_type": "code",
   "execution_count": 49,
   "metadata": {},
   "outputs": [],
   "source": [
    "dataset_open = dataset.loc[:,'Open']\n",
    "#get all of the rows from the Open column"
   ]
  },
  {
   "cell_type": "code",
   "execution_count": 50,
   "metadata": {},
   "outputs": [],
   "source": [
    "# Create the independent data set 'X' as dates\n",
    "for date in dataset_dates:\n",
    "    dates.append( [int(date.split('-')[2])])\n"
   ]
  },
  {
   "cell_type": "code",
   "execution_count": 51,
   "metadata": {},
   "outputs": [],
   "source": [
    "#Create the dependent data set 'Y' as prices\n",
    "for open_price in dataset_open:\n",
    "    prices.append(float(open_price))"
   ]
  },
  {
   "cell_type": "code",
   "execution_count": 52,
   "metadata": {},
   "outputs": [
    {
     "name": "stdout",
     "output_type": "stream",
     "text": [
      "[[26], [27], [30], [31], [1], [2], [3], [6], [7], [8], [9], [13], [14], [15], [16], [17], [20], [21], [22], [23]]\n"
     ]
    }
   ],
   "source": [
    "print(dates)"
   ]
  },
  {
   "cell_type": "code",
   "execution_count": 63,
   "metadata": {},
   "outputs": [],
   "source": [
    "def prediction_model(dates, prices, x):\n",
    "  \n",
    "  #Create 3 Support Vector Regression Models\n",
    "  svr_lin = SVR(kernel='linear', C=1e3)\n",
    "  svr_poly = SVR(kernel='poly', C=1e3, degree=2)\n",
    "  svr_rbf = SVR(kernel='rbf', C=1e3, gamma=0.1)\n",
    "  \n",
    "  #Train the models on the dates and prices\n",
    "  svr_lin.fit(dates,prices)\n",
    "  svr_poly.fit(dates, prices)\n",
    "  svr_rbf.fit(dates, prices)\n",
    "  \n",
    "  #Plot the models on a graph to see which has the best fit\n",
    "  plt.scatter(dates, prices, color = 'black', label='Data')\n",
    "  plt.plot(dates, svr_rbf.predict(dates), color = 'red', label='RBF model')\n",
    "  plt.plot(dates, svr_lin.predict(dates), color = 'green', label='Linear model')\n",
    "  plt.plot(dates, svr_poly.predict(dates), color = 'blue', label='Polynomial model')\n",
    "  plt.xlabel('Date')\n",
    "  plt.ylabel('Price')\n",
    "  plt.title('Support Vector Regression')\n",
    "  plt.legend()\n",
    "  plt.show()\n",
    "  \n",
    "  #return all three model predictions\n",
    "  return svr_rbf.predict(x)[0], svr_lin.predict(x)[0], svr_poly.predict(x)[0]"
   ]
  },
  {
   "cell_type": "code",
   "execution_count": 64,
   "metadata": {},
   "outputs": [
    {
     "data": {
      "image/png": "[encoded data removed]",
      "text/plain": [
       "<Figure size 432x288 with 1 Axes>"
      ]
     },
     "metadata": {
      "needs_background": "light"
     },
     "output_type": "display_data"
    },
    {
     "name": "stdout",
     "output_type": "stream",
     "text": [
      "(358.9895717625176, 429.47801179996134, 369.9439257401091)\n"
     ]
    }
   ],
   "source": [
    "future_price = prediction_model(dates, prices, [[27]])\n",
    "print(future_price)"
   ]
  }
 ],
 "metadata": {
  "kernelspec": {
   "display_name": "Python 3",
   "language": "python",
   "name": "python3"
  },
  "language_info": {
   "codemirror_mode": {
    "name": "ipython",
    "version": 3
   },
   "file_extension": ".py",
   "mimetype": "text/x-python",
   "name": "python",
   "nbconvert_exporter": "python",
   "pygments_lexer": "ipython3",
   "version": "3.7.5"
  }
 },
 "nbformat": 4,
 "nbformat_minor": 4
}

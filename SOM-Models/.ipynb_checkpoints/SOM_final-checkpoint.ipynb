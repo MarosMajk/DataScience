{
 "cells": [
  {
   "cell_type": "code",
   "execution_count": 51,
   "metadata": {},
   "outputs": [],
   "source": [
    "import numpy as np\n",
    "import pandas as pd\n",
    "import os\n",
    "import matplotlib.pyplot as plt\n",
    "from matplotlib import patches as patches\n",
    "from sklearn.preprocessing import MinMaxScaler"
   ]
  },
  {
   "cell_type": "code",
   "execution_count": 52,
   "metadata": {},
   "outputs": [],
   "source": [
    "class data_cluster:\n",
    "    def __init__(self,document,color):\n",
    "        self.document = document\n",
    "        self.color = color\n",
    "        \n",
    "    def load_txt_array(self):\n",
    "        data = np.loadtxt(self.document, delimiter=\" \")\n",
    "        #Select z np.array data 0 index => x \n",
    "        arr_x = np.array([])\n",
    "        for i in range(0,data.shape[0]):\n",
    "            x = float(np.take(data[i],0))\n",
    "            arr_x = np.append(arr_x,[x],axis = 0)\n",
    "        #Select z np.array data 1 index => z \n",
    "        arr_y = np.array([])\n",
    "        for i in range(0,data.shape[0]):\n",
    "            x = float(np.take(data[i],1))\n",
    "            arr_y = np.append(arr_y,[x],axis = 0)\n",
    "        stack = np.stack((arr_x,arr_y))\n",
    "        return stack\n",
    "     \n",
    "    def graph(self):\n",
    "        array = self.load_txt_array()\n",
    "        x = array[0]\n",
    "        y = array[1]\n",
    "        plt.grid()\n",
    "        graph = plt.plot(x,y,'bo',c=self.color)\n",
    "        return graph\n",
    "    \n",
    "    def cluster_img(self):\n",
    "        #create cluster_img for dataset\n",
    "        data = np.loadtxt(self.document, delimiter=\" \")\n",
    "        img = plt.imshow(data, interpolation='none', aspect='auto')\n",
    "        doc = self.document\n",
    "        plt.title(\"Claster for dataset \"+doc)\n",
    "        return img\n",
    "    \n",
    "    def get_x_values(self):\n",
    "        array = self.load_txt_array()\n",
    "        x = array[0]\n",
    "        return x\n",
    "    \n",
    "    def get_y_values(self):\n",
    "        array = self.load_txt_array()\n",
    "        y = array[1]\n",
    "        return y    \n",
    "    \n",
    "    def get_document(self):\n",
    "        get_doc = self.document\n",
    "        return get_doc"
   ]
  },
  {
   "cell_type": "code",
   "execution_count": 53,
   "metadata": {},
   "outputs": [],
   "source": [
    "def show_graphs():\n",
    "    plt.subplots_adjust(left=None, bottom=None, right=2, top=2, wspace=None, hspace=None)\n",
    "    plt.subplot(2, 2, 1)\n",
    "    cluster1.graph()\n",
    "    plt.title('2D Visualisation of datasets ')\n",
    "    plt.ylabel('Dataset1')\n",
    "\n",
    "    plt.subplot(2, 2, 2)\n",
    "    cluster2.graph()\n",
    "    plt.ylabel('Dataset 2')\n",
    "\n",
    "def show_clusters():\n",
    "    plt.subplots_adjust( right=2, top=2)\n",
    "    plt.subplot(2,2,1)\n",
    "    cluster1.cluster_img()\n",
    "    plt.xlabel('Cluster for Dataset 1')\n",
    "    plt.subplot(2,2,2)\n",
    "    cluster2.cluster_img()\n",
    "    plt.xlabel('Cluster for Dataset 2')\n",
    "\n",
    "def merge_graph():\n",
    "    x1 = cluster1.get_x_values()\n",
    "    x2 = cluster2.get_x_values()\n",
    "    y1 = cluster1.get_y_values()\n",
    "    y2 = cluster2.get_y_values()\n",
    "    x = np.concatenate((x1, x2), axis=None)\n",
    "    y = np.concatenate((y1, y2), axis=None)\n",
    "    plt.scatter(x1, y1, c='green')\n",
    "    plt.scatter(x2, y2, c='lightblue')\n",
    "    graph = plt.show()\n",
    "    return graph\n",
    "\n",
    "def merge_dataset():\n",
    "    d1 = np.loadtxt(cluster1.get_document(), delimiter=\" \")\n",
    "    d2 = np.loadtxt(cluster2.get_document(), delimiter=\" \")\n",
    "    merge_data = np.concatenate((d1,d2))\n",
    "    return merge_data\n",
    "\n",
    "def merge_cluster_img():\n",
    "    merge_data = merge_dataset()\n",
    "    img_plt = plt.imshow(merge_data, interpolation='none', aspect='auto')\n",
    "    return img_plt"
   ]
  },
  {
   "cell_type": "code",
   "execution_count": 54,
   "metadata": {},
   "outputs": [],
   "source": [
    "class Kohonen:\n",
    "    def __init__(self,):\n",
    "        self.som_width = 8\n",
    "        self.som_length = 8\n",
    "        self.epochs = 10000\n",
    "        self.initial_learning_rate = 0.01\n",
    "        self.rows = df_scaled.shape[0]\n",
    "        self.cols = df_scaled.shape[1]\n",
    "        self.initial_radius = max(self.som_width, self.som_length)/2\n",
    "        self.time_constant =  self.epochs/np.log(self.initial_radius)\n",
    "        self.som_net = som_net = np.random.random((self.som_width, self.som_length, self.cols))\n",
    "        \n",
    "    def som_net_func(self):\n",
    "        print(\"Initial weights set to SOM network:\")\n",
    "        return self.som_net\n",
    "    \n",
    "    def update_radius(self,initial_radius, i, time_constant):\n",
    "        return self.initial_radius * np.exp(-i / self.time_constant)\n",
    "        \n",
    "    def update_learning_rate(self,initial_learning_rate, i, n_iterations):\n",
    "        return self.initial_learning_rate * np.exp(-i / n_iterations)    \n",
    "    \n",
    "    def calculate_euclidian_dis(self,point1, point2):\n",
    "        return np.sqrt(np.sum((point1 - point2) ** 2))\n",
    "    \n",
    "    def find_best_matching_Unit(self,data_point):\n",
    "        bmu_pos = np.array([0, 0])\n",
    "        min_dist = np.iinfo(np.int).max\n",
    "        input_dim = len(data_point)\n",
    "    \n",
    "        for x in range(self.som_width):\n",
    "            for y in range(self.som_length):\n",
    "                som_weight_vector = self.som_net[x, y, :].reshape(1, 4)\n",
    "                euclidian_dist = self.calculate_euclidian_dis(som_weight_vector, data_point)\n",
    "                if euclidian_dist < min_dist:\n",
    "                    min_dist = euclidian_dist\n",
    "                    bmu_pos = np.array([x, y])\n",
    "    \n",
    "        bmu = self.som_net[bmu_pos[0], bmu_pos[1], :].reshape(1, 4)\n",
    "        return (bmu, bmu_pos)\n",
    "    \n",
    "    def neighbourhood_function(self, bmu_location, selected_node_location, radius):\n",
    "        euclidien_dist_to_bmu = self.calculate_euclidian_dis(bmu_location, selected_node_location)\n",
    "        return np.exp(-euclidien_dist_to_bmu / (2* (radius**2)))\n",
    "    \n",
    "    def body(self):\n",
    "        #df_scaled = df_scaled.sample(frac=1)\n",
    "        rad_values = list()\n",
    "        learn_rates_values = list()\n",
    "        rad_values.append(self.initial_radius)\n",
    "        learn_rates_values.append(self.initial_learning_rate)\n",
    "        \n",
    "        for i in range(self.epochs):\n",
    "            data_point = np.array(df_scaled.sample())\n",
    "            bmu, bmu_idx = self.find_best_matching_Unit(data_point)\n",
    "            \n",
    "            r_new = self.update_radius(self.initial_radius, i, self.time_constant)\n",
    "            new_learning_rate = self.update_learning_rate(self.initial_learning_rate, i, self.epochs)\n",
    "            \n",
    "            rad_values.append(r_new)\n",
    "            learn_rates_values.append(new_learning_rate)\n",
    "            \n",
    "            for x in range(self.som_width):\n",
    "                for y in range(self.som_length):\n",
    "                    w = self.som_net[x, y, :].reshape(1, 4)\n",
    "                    w_dist = self.calculate_euclidian_dis(np.array([x, y]), bmu_idx)\n",
    "                    \n",
    "                    if w_dist <= r_new:\n",
    "                        influence = self.neighbourhood_function(bmu, w, r_new)\n",
    "                        new_w = w + (new_learning_rate * influence * (data_point - w))\n",
    "                        self.som_net[x, y, :] = new_w.reshape(1, 4)\n",
    "                        \n",
    "        plt.plot(rad_values)\n",
    "        plt.title('Radius values')\n",
    "        plt.show()\n",
    "        print(rad_values[25])\n",
    "        \n",
    "        plt.plot(learn_rates_values)\n",
    "        plt.title('Learning Rates values')\n",
    "        print(learn_rates_values[25])\n",
    "        plt.show()\n",
    "        \n",
    "        fig = plt.figure(figsize=(7,7))\n",
    "        ax = fig.add_subplot(1,1,1, aspect='equal')\n",
    "        ax.set_xlim((0, self.som_width+1))\n",
    "        ax.set_ylim((0, self.som_length+1))\n",
    "        ax.set_title('Self-Organising Map after %d iterations' % self.epochs)\n",
    "\n",
    "        for x in range(1, self.som_width + 1):\n",
    "            for y in range(1, self.som_length + 1):\n",
    "                ax.add_patch(patches.Circle((x, y), 0.5, facecolor=self.som_net[x-1,y-1,:], edgecolor='black'))\n",
    "        plt.show()\n",
    "\n",
    "        fig.savefig('SOM_dataset.png')\n",
    "        \n",
    "        u_matrix = np.zeros((self.som_width-1, self.som_length-1))\n",
    "        \n",
    "        for x in range(1, self.som_width):\n",
    "            for y in range(1, self.som_length):\n",
    "                neighbour_list = list()\n",
    "                print(\"-\"* 100)\n",
    "                print(\"neighbour cordinates of x=%d, y=%d\" %(x,y))\n",
    "                for u in range(x-1, x+2):\n",
    "                    if (u < 0 or u > (self.som_width-1)):\n",
    "                        continue\n",
    "                    for v in range(y-1, y+2):\n",
    "                        if(v < 0 or v > (self.som_length-1)):\n",
    "                            continue\n",
    "                        if (u == x and v == y):\n",
    "                            continue\n",
    "                        neighbour_list.append(np.array([u,v]))\n",
    "                        #print(u,v)\n",
    "                \n",
    "                sum=0\n",
    "                for idx in neighbour_list:\n",
    "                    sum += self.calculate_euclidian_dis(self.som_net[x,y,:], self.som_net[idx[0],idx[1],:])\n",
    "                \n",
    "                \n",
    "                avg = sum/len(neighbour_list)\n",
    "                print(\"Sum of distance to neighbour weights=%f, average=%f\" % (sum, avg))     \n",
    "                u_matrix[x-1,y-1] = avg \n",
    "                \n",
    "        fig = plt.figure(figsize=(7,7))\n",
    "        plt.title(\"U Matrix visualization of data set using SOM\")\n",
    "        plt.imshow(u_matrix, cmap=\"gray\")\n",
    "        plt.show()\n",
    "        fig.savefig('U_Matrix_final.png')\n",
    "        fig = plt.figure(figsize=(7,7))\n",
    "        plt.title(\"U Matrix visualization of data set using SOM\")\n",
    "        plt.imshow(u_matrix, cmap=\"viridis\")\n",
    "        plt.show()\n",
    "        fig.savefig('U_Matrix_final_colorfull.png')"
   ]
  },
  {
   "cell_type": "code",
   "execution_count": 55,
   "metadata": {},
   "outputs": [],
   "source": [
    "cluster1 = data_cluster(\"acc1.txt\",\"green\")\n",
    "cluster2 = data_cluster(\"acc2.txt\",\"blue\")"
   ]
  },
  {
   "cell_type": "code",
   "execution_count": 56,
   "metadata": {},
   "outputs": [],
   "source": [
    "df = pd.DataFrame(merge_dataset())\n",
    "df.to_csv('dataset.txt', index=False)\n",
    "df = df.iloc[:,:-1]\n",
    "#df.dtypes"
   ]
  },
  {
   "cell_type": "code",
   "execution_count": 57,
   "metadata": {},
   "outputs": [],
   "source": [
    "feature_scaler = MinMaxScaler(feature_range=(0, 1))\n",
    "df_scaled = feature_scaler.fit_transform(df)\n",
    "df_scaled = pd.DataFrame(data=df_scaled)"
   ]
  },
  {
   "cell_type": "code",
   "execution_count": 58,
   "metadata": {},
   "outputs": [
    {
     "name": "stdout",
     "output_type": "stream",
     "text": [
      "Data set raw count=216 column count=4\n"
     ]
    }
   ],
   "source": [
    "np.random.seed(10)\n",
    "rows,cols = df_scaled.shape\n",
    "print(\"Data set, row count=%d column count=%d\" %(rows, cols))"
   ]
  },
  {
   "cell_type": "code",
   "execution_count": 60,
   "metadata": {},
   "outputs": [],
   "source": [
    "model = Kohonen()"
   ]
  },
  {
   "cell_type": "code",
   "execution_count": 61,
   "metadata": {},
   "outputs": [
    {
     "data": {
      "image/png": "[encoded data removed]",
      "text/plain": [
       "<Figure size 432x288 with 2 Axes>"
      ]
     },
     "metadata": {
      "needs_background": "light"
     },
     "output_type": "display_data"
    }
   ],
   "source": [
    "show_graphs()"
   ]
  },
  {
   "cell_type": "code",
   "execution_count": 62,
   "metadata": {},
   "outputs": [
    {
     "data": {
      "image/png": "[encoded data removed]",
      "text/plain": [
       "<Figure size 432x288 with 2 Axes>"
      ]
     },
     "metadata": {
      "needs_background": "light"
     },
     "output_type": "display_data"
    }
   ],
   "source": [
    "show_clusters()"
   ]
  },
  {
   "cell_type": "code",
   "execution_count": null,
   "metadata": {},
   "outputs": [],
   "source": [
    "model.body()"
   ]
  },
  {
   "cell_type": "code",
   "execution_count": null,
   "metadata": {},
   "outputs": [],
   "source": []
  },
  {
   "cell_type": "code",
   "execution_count": null,
   "metadata": {},
   "outputs": [],
   "source": []
  },
  {
   "cell_type": "code",
   "execution_count": null,
   "metadata": {},
   "outputs": [],
   "source": []
  }
 ],
 "metadata": {
  "kernelspec": {
   "display_name": "Python 3",
   "language": "python",
   "name": "python3"
  },
  "language_info": {
   "codemirror_mode": {
    "name": "ipython",
    "version": 3
   },
   "file_extension": ".py",
   "mimetype": "text/x-python",
   "name": "python",
   "nbconvert_exporter": "python",
   "pygments_lexer": "ipython3",
   "version": "3.7.5"
  }
 },
 "nbformat": 4,
 "nbformat_minor": 4
}

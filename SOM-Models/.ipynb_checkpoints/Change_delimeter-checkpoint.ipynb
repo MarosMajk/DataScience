{
 "cells": [
  {
   "cell_type": "code",
   "execution_count": 6,
   "metadata": {},
   "outputs": [],
   "source": [
    "import pandas as pd\n",
    "import numpy as np\n",
    "\n"
   ]
  },
  {
   "cell_type": "code",
   "execution_count": 14,
   "metadata": {},
   "outputs": [
    {
     "data": {
      "text/plain": [
       "5.1    float64\n",
       "3.5    float64\n",
       "1.4    float64\n",
       "0.2    float64\n",
       "dtype: object"
      ]
     },
     "execution_count": 14,
     "metadata": {},
     "output_type": "execute_result"
    }
   ],
   "source": [
    "df = pd.read_csv(r'iris.txt')\n",
    "df.head()\n",
    "\n",
    "df = df.iloc[:,:-1]\n",
    "df.dtypes"
   ]
  },
  {
   "cell_type": "code",
   "execution_count": 15,
   "metadata": {},
   "outputs": [
    {
     "data": {
      "text/html": [
       "<div>\n",
       "<style scoped>\n",
       "    .dataframe tbody tr th:only-of-type {\n",
       "        vertical-align: middle;\n",
       "    }\n",
       "\n",
       "    .dataframe tbody tr th {\n",
       "        vertical-align: top;\n",
       "    }\n",
       "\n",
       "    .dataframe thead th {\n",
       "        text-align: right;\n",
       "    }\n",
       "</style>\n",
       "<table border=\"1\" class=\"dataframe\">\n",
       "  <thead>\n",
       "    <tr style=\"text-align: right;\">\n",
       "      <th></th>\n",
       "      <th>0</th>\n",
       "      <th>1</th>\n",
       "      <th>2</th>\n",
       "      <th>3</th>\n",
       "    </tr>\n",
       "  </thead>\n",
       "  <tbody>\n",
       "    <tr>\n",
       "      <th>0</th>\n",
       "      <td>0.166667</td>\n",
       "      <td>0.416667</td>\n",
       "      <td>0.067797</td>\n",
       "      <td>0.041667</td>\n",
       "    </tr>\n",
       "    <tr>\n",
       "      <th>1</th>\n",
       "      <td>0.083333</td>\n",
       "      <td>0.458333</td>\n",
       "      <td>0.084746</td>\n",
       "      <td>0.041667</td>\n",
       "    </tr>\n",
       "    <tr>\n",
       "      <th>2</th>\n",
       "      <td>0.194444</td>\n",
       "      <td>0.666667</td>\n",
       "      <td>0.067797</td>\n",
       "      <td>0.041667</td>\n",
       "    </tr>\n",
       "    <tr>\n",
       "      <th>3</th>\n",
       "      <td>0.083333</td>\n",
       "      <td>0.583333</td>\n",
       "      <td>0.067797</td>\n",
       "      <td>0.083333</td>\n",
       "    </tr>\n",
       "    <tr>\n",
       "      <th>4</th>\n",
       "      <td>0.194444</td>\n",
       "      <td>0.583333</td>\n",
       "      <td>0.084746</td>\n",
       "      <td>0.041667</td>\n",
       "    </tr>\n",
       "  </tbody>\n",
       "</table>\n",
       "</div>"
      ],
      "text/plain": [
       "          0         1         2         3\n",
       "0  0.166667  0.416667  0.067797  0.041667\n",
       "1  0.083333  0.458333  0.084746  0.041667\n",
       "2  0.194444  0.666667  0.067797  0.041667\n",
       "3  0.083333  0.583333  0.067797  0.083333\n",
       "4  0.194444  0.583333  0.084746  0.041667"
      ]
     },
     "execution_count": 15,
     "metadata": {},
     "output_type": "execute_result"
    }
   ],
   "source": [
    "\n",
    "from sklearn.preprocessing import MinMaxScaler\n",
    "feature_scaler = MinMaxScaler(feature_range=(0, 1))\n",
    "df_scaled = feature_scaler.fit_transform(df)\n",
    "df_scaled = pd.DataFrame(data=df_scaled)\n",
    "df_scaled.head()"
   ]
  },
  {
   "cell_type": "code",
   "execution_count": 16,
   "metadata": {},
   "outputs": [],
   "source": [
    "som_width = 8\n",
    "som_length = 8\n",
    "epochs = 10000\n",
    "initial_learning_rate=0.01\n",
    "np.random.seed(10)"
   ]
  },
  {
   "cell_type": "code",
   "execution_count": 17,
   "metadata": {},
   "outputs": [
    {
     "name": "stdout",
     "output_type": "stream",
     "text": [
      "Data set raw count=149 column count=4\n"
     ]
    }
   ],
   "source": [
    "raws,cols = df_scaled.shape\n",
    "print(\"Data set raw count=%d column count=%d\" %(raws, cols))"
   ]
  },
  {
   "cell_type": "code",
   "execution_count": 18,
   "metadata": {},
   "outputs": [],
   "source": [
    "initial_radius = max(som_width, som_length)/2\n",
    "time_constant =  epochs/np.log(initial_radius)"
   ]
  },
  {
   "cell_type": "code",
   "execution_count": 19,
   "metadata": {},
   "outputs": [
    {
     "name": "stdout",
     "output_type": "stream",
     "text": [
      "Initial weights set to SOM network:\n",
      "[[[0.77132064 0.02075195 0.63364823 0.74880388]\n",
      "  [0.49850701 0.22479665 0.19806286 0.76053071]\n",
      "  [0.16911084 0.08833981 0.68535982 0.95339335]\n",
      "  [0.00394827 0.51219226 0.81262096 0.61252607]\n",
      "  [0.72175532 0.29187607 0.91777412 0.71457578]\n",
      "  [0.54254437 0.14217005 0.37334076 0.67413362]\n",
      "  [0.44183317 0.43401399 0.61776698 0.51313824]\n",
      "  [0.65039718 0.60103895 0.8052232  0.52164715]]\n",
      "\n",
      " [[0.90864888 0.31923609 0.09045935 0.30070006]\n",
      "  [0.11398436 0.82868133 0.04689632 0.62628715]\n",
      "  [0.54758616 0.819287   0.19894754 0.8568503 ]\n",
      "  [0.35165264 0.75464769 0.29596171 0.88393648]\n",
      "  [0.32551164 0.1650159  0.39252924 0.09346037]\n",
      "  [0.82110566 0.15115202 0.38411445 0.94426071]\n",
      "  [0.98762547 0.45630455 0.82612284 0.25137413]\n",
      "  [0.59737165 0.90283176 0.53455795 0.59020136]]\n",
      "\n",
      " [[0.03928177 0.35718176 0.07961309 0.30545992]\n",
      "  [0.33071931 0.7738303  0.03995921 0.42949218]\n",
      "  [0.31492687 0.63649114 0.34634715 0.04309736]\n",
      "  [0.87991517 0.76324059 0.87809664 0.41750914]\n",
      "  [0.60557756 0.51346663 0.59783665 0.26221566]\n",
      "  [0.30087131 0.02539978 0.30306256 0.24207588]\n",
      "  [0.55757819 0.56550702 0.47513225 0.29279798]\n",
      "  [0.06425106 0.97881915 0.33970784 0.49504863]]\n",
      "\n",
      " [[0.97708073 0.44077382 0.31827281 0.51979699]\n",
      "  [0.57813643 0.85393375 0.06809727 0.46453081]\n",
      "  [0.78194912 0.71860281 0.58602198 0.03709441]\n",
      "  [0.35065639 0.56319068 0.29972987 0.51233415]\n",
      "  [0.67346693 0.15919373 0.05047767 0.33781589]\n",
      "  [0.10806377 0.17890281 0.8858271  0.36536497]\n",
      "  [0.21876935 0.75249617 0.10687958 0.74460324]\n",
      "  [0.46978529 0.59825567 0.14762019 0.18403482]]\n",
      "\n",
      " [[0.64507213 0.04862801 0.24861251 0.54240852]\n",
      "  [0.22677334 0.38141153 0.92223279 0.92535687]\n",
      "  [0.56674992 0.53347088 0.01486002 0.97789926]\n",
      "  [0.5730289  0.791757   0.56155736 0.87733524]\n",
      "  [0.58419583 0.70884983 0.14853345 0.42845074]\n",
      "  [0.69389007 0.10461974 0.43960524 0.16620215]\n",
      "  [0.50697863 0.81903586 0.09010673 0.80006875]\n",
      "  [0.56512635 0.58934771 0.19810066 0.43611826]]\n",
      "\n",
      " [[0.29590376 0.03755768 0.03068484 0.453105  ]\n",
      "  [0.74486408 0.55729541 0.3851136  0.1680728 ]\n",
      "  [0.83826132 0.5990518  0.78271482 0.84850918]\n",
      "  [0.60316298 0.78106062 0.61573688 0.02116519]\n",
      "  [0.75046461 0.17604213 0.45851421 0.51312271]\n",
      "  [0.48402089 0.84438579 0.17481389 0.01463488]\n",
      "  [0.84876407 0.74267458 0.45669754 0.41689841]\n",
      "  [0.11672951 0.33867913 0.09465904 0.71583087]]\n",
      "\n",
      " [[0.0770854  0.20595026 0.57377623 0.29383156]\n",
      "  [0.65572674 0.80356835 0.3512135  0.09344038]\n",
      "  [0.81331608 0.78486672 0.39341911 0.86447919]\n",
      "  [0.38403077 0.25730289 0.82940192 0.7363827 ]\n",
      "  [0.50760091 0.64432662 0.21318657 0.89570895]\n",
      "  [0.96594625 0.31700156 0.86555262 0.31028371]\n",
      "  [0.02526395 0.04919516 0.18462684 0.06903334]\n",
      "  [0.25747542 0.91358173 0.45784951 0.13021179]]\n",
      "\n",
      " [[0.80989167 0.40346984 0.02443264 0.85683104]\n",
      "  [0.27429482 0.70910596 0.35577234 0.79430906]\n",
      "  [0.84461886 0.53814752 0.55908652 0.12250998]\n",
      "  [0.37764192 0.42874733 0.51120865 0.89176257]\n",
      "  [0.30021061 0.39644188 0.79327323 0.41227608]\n",
      "  [0.18486755 0.84024732 0.5692714  0.06005021]\n",
      "  [0.98891697 0.22878233 0.61470171 0.36802668]\n",
      "  [0.80277594 0.62756185 0.82121648 0.28825314]]]\n"
     ]
    }
   ],
   "source": [
    "som_net = np.random.random((som_width, som_length, cols))\n",
    "print(\"Initial weights set to SOM network:\")\n",
    "print(som_net)"
   ]
  },
  {
   "cell_type": "code",
   "execution_count": 20,
   "metadata": {},
   "outputs": [],
   "source": [
    "def update_radius(initial_radius, i, time_constant):\n",
    "    return initial_radius * np.exp(-i / time_constant)\n",
    "\n",
    "def update_learning_rate(initial_learning_rate, i, n_iterations):\n",
    "    return initial_learning_rate * np.exp(-i / n_iterations)\n",
    "\n",
    "def calculate_euclidian_dis(point1, point2):\n",
    "    return np.sqrt(np.sum((point1 - point2) ** 2))"
   ]
  },
  {
   "cell_type": "code",
   "execution_count": 21,
   "metadata": {},
   "outputs": [],
   "source": [
    "def find_best_matching_Unit(data_point):\n",
    "    bmu_pos = np.array([0, 0])\n",
    "    min_dist = np.iinfo(np.int).max\n",
    "    input_dim = len(data_point)\n",
    "    \n",
    "    for x in range(som_width):\n",
    "        for y in range(som_length):\n",
    "            som_weight_vector = som_net[x, y, :].reshape(1, 4)\n",
    "            euclidian_dist = calculate_euclidian_dis(som_weight_vector, data_point)\n",
    "            if euclidian_dist < min_dist:\n",
    "                min_dist = euclidian_dist\n",
    "                bmu_pos = np.array([x, y])\n",
    "    \n",
    "    bmu = som_net[bmu_pos[0], bmu_pos[1], :].reshape(1, 4)\n",
    "    return (bmu, bmu_pos)"
   ]
  },
  {
   "cell_type": "code",
   "execution_count": 22,
   "metadata": {},
   "outputs": [],
   "source": [
    "def neighbourhood_function(bmu_location, selected_node_location, radius):\n",
    "    euclidien_dist_to_bmu = calculate_euclidian_dis(bmu_location, selected_node_location)\n",
    "    return np.exp(-euclidien_dist_to_bmu / (2* (radius**2)))"
   ]
  },
  {
   "cell_type": "code",
   "execution_count": null,
   "metadata": {},
   "outputs": [],
   "source": [
    "#shuffle data set\n",
    "df_scaled = df_scaled.sample(frac=1)\n",
    "\n",
    "rad_values = list()\n",
    "learn_rates_values = list()\n",
    "rad_values.append(initial_radius)\n",
    "learn_rates_values.append(initial_learning_rate)\n",
    "\n",
    "for i in range(epochs):\n",
    "    data_point = np.array(df_scaled.sample())\n",
    "    bmu, bmu_idx = find_best_matching_Unit(data_point)\n",
    "\n",
    "    r_new = update_radius(initial_radius, i, time_constant)\n",
    "    new_learning_rate = update_learning_rate(initial_learning_rate, i, epochs)\n",
    "    \n",
    "    rad_values.append(r_new)\n",
    "    learn_rates_values.append(new_learning_rate)\n",
    "    \n",
    "    for x in range(som_width):\n",
    "        for y in range(som_length):\n",
    "            w = som_net[x, y, :].reshape(1, 4)\n",
    "            w_dist = calculate_euclidian_dis(np.array([x, y]), bmu_idx)\n",
    "            \n",
    "            if w_dist <= r_new:\n",
    "                influence = neighbourhood_function(bmu, w, r_new)\n",
    "                new_w = w + (new_learning_rate * influence * (data_point - w))\n",
    "                som_net[x, y, :] = new_w.reshape(1, 4)"
   ]
  },
  {
   "cell_type": "code",
   "execution_count": null,
   "metadata": {},
   "outputs": [],
   "source": [
    "from matplotlib import pyplot as plt\n",
    "plt.plot(rad_values)\n",
    "plt.title('Radius values')"
   ]
  },
  {
   "cell_type": "code",
   "execution_count": null,
   "metadata": {},
   "outputs": [],
   "source": []
  }
 ],
 "metadata": {
  "kernelspec": {
   "display_name": "Python 3",
   "language": "python",
   "name": "python3"
  },
  "language_info": {
   "codemirror_mode": {
    "name": "ipython",
    "version": 3
   },
   "file_extension": ".py",
   "mimetype": "text/x-python",
   "name": "python",
   "nbconvert_exporter": "python",
   "pygments_lexer": "ipython3",
   "version": "3.7.5"
  }
 },
 "nbformat": 4,
 "nbformat_minor": 4
}

{
 "cells": [
  {
   "cell_type": "code",
   "execution_count": 25,
   "metadata": {},
   "outputs": [],
   "source": [
    "import pandas as pd\n",
    "import numpy as np\n",
    "import math\n",
    "from numpy import log2 as log\n",
    "from anytree import Node, RenderTree\n",
    "from anytree.exporter import DotExporter"
   ]
  },
  {
   "cell_type": "code",
   "execution_count": 28,
   "metadata": {},
   "outputs": [],
   "source": [
    "class ID3():\n",
    "    def __init__(self, document):\n",
    "        self.document = document\n",
    "        self.df = pd.read_csv(document)\n",
    "        self.df_columns = self.df.columns.values.tolist()\n",
    "        self.attributes = self.df_columns[1:len(self.df_columns)]\n",
    "        self.df_attributes = pd.DataFrame(self.df,columns=self.attributes)\n",
    "        self.num_days = self.df.shape[0]\n",
    "        self.num_features = self.df.shape[1] - 2\n",
    "    \n",
    "    def __get_document(self):\n",
    "        return self.document\n",
    "    \n",
    "    def __prob_of_playing(self):\n",
    "        '''\n",
    "        Premenna choices obsahuje YES & NO values ktore pochadzaju z df.\n",
    "        Tieto yes / no su nasledne priradene do premennych num_no,num_yes.\n",
    "        Nasledne pocitame pravdepodobnost ze za 14 dní sa podla df \n",
    "        uskutocnil / neuskutocnil tenis -> prob_a (uskutocnil), prob_b (neuskutocnil)\n",
    "        '''\n",
    "        num_no, num_yes = 0,0\n",
    "        choices = self.df.iloc[:,5]\n",
    "        for i in range(0,self.num_days):\n",
    "            if choices[i] == \"Yes\":\n",
    "                num_yes += 1\n",
    "            else:\n",
    "                num_no += 1\n",
    "        prob_a = num_yes / self.num_days\n",
    "        prob_b = num_no /  self.num_days\n",
    "        probability = [prob_a,prob_b]\n",
    "        return probability\n",
    "    \n",
    "    def __system_entropy(self):\n",
    "        '''\n",
    "        Funkcia vypocita entropiu celého systému -> 0,940\n",
    "        '''\n",
    "        prob = self.__prob_of_playing()\n",
    "        entropy = -prob[0] * math.log2(prob[0]) - prob[1] * math.log2(prob[1])\n",
    "        entropy = round(entropy,3)\n",
    "        return entropy\n",
    "    \n",
    "    def __attribute_entropy(self,df_attribute,attribute):\n",
    "        '''\n",
    "        Funkcia vypocita entropiu vsetkych atributov,\n",
    "        atribut = column z dataframu kt. don vchadza\n",
    "        '''\n",
    "        absolute_zero = np.finfo(float).eps \n",
    "        target_variables = df_attribute[df_attribute.keys()[-1]].unique()  \n",
    "        variables = df_attribute[attribute].unique()\n",
    "        entropy2 = 0\n",
    "        for variable in variables:\n",
    "            entropy = 0\n",
    "            for target_variable in target_variables:\n",
    "                    num = len(df_attribute[attribute][df_attribute[attribute]==variable][df_attribute[df_attribute.keys()[-1]] ==target_variable])\n",
    "                    den = len(df_attribute[attribute][df_attribute[attribute]==variable])\n",
    "                    fraction = num/(den+absolute_zero)\n",
    "                    entropy += -fraction*log(fraction+absolute_zero)\n",
    "            fraction2 = den/len(df_attribute)\n",
    "            entropy2 += abs(-fraction2*entropy)\n",
    "        return round(entropy2,3)\n",
    "    \n",
    "    def __df_attribute_table(self,df_attributes, attribute, value):\n",
    "        return df_attributes[df_attributes[attribute] == value].reset_index(drop=True)\n",
    "    \n",
    "    def __best_attribute(self,df_attributes):\n",
    "        attribute_entropy = []\n",
    "        for key in df_attributes.keys()[:-1]:\n",
    "            attribute_entropy.append(self.__system_entropy() - self.__attribute_entropy(df_attributes,key))\n",
    "            \n",
    "        best_candidate = df_attributes.keys()[:-1][np.argmax(attribute_entropy)]\n",
    "        return best_candidate\n",
    "    \n",
    "    def info(self):\n",
    "        print(\"CSV document: {document}\".format(document = self.__get_document()))\n",
    "        print(\"System entropy: \" ,self.__system_entropy(),\"(rounded to 3 decimals)\")\n",
    "        print(\"Best attribute from first iteration (parent of node): \" ,self.__best_attribute(self.df_attributes))\n",
    "    \n",
    "    def __node_dict(self,df,tree=None):\n",
    "        best_candidate = self.__best_attribute(df)\n",
    "        attValue = np.unique(df[best_candidate])\n",
    "\n",
    "        if tree is None:                    \n",
    "            tree={}\n",
    "            tree[best_candidate] = {}\n",
    "\n",
    "        for value in attValue:\n",
    "            subtable = self.__df_attribute_table(df,best_candidate,value)\n",
    "            clValue,counts = np.unique(subtable['play'],return_counts=True)                        \n",
    "            if len(counts)==1:\n",
    "                tree[best_candidate][value] = clValue[0]     \n",
    "            else:        \n",
    "                tree[best_candidate][value] = self.__node_dict(subtable)\n",
    "        return tree\n",
    "    \n",
    "    def create_tree(self):\n",
    "        tree = self.__node_dict(self.df_attributes)\n",
    "        print(tree.keys())\n",
    "        \n",
    "        second_dict = tree[str(*tree.keys())]\n",
    "        leader_node = Node([*tree.keys()][0])\n",
    "        first_node_layer = [i for i in [*tree[str(*tree.keys())]]] #['Overcast', 'Rain', 'Sunny']\n",
    "        \n",
    "        ''' Tvorba stromu -> graf '''\n",
    "        index = 0\n",
    "        attribute_list = []\n",
    "\n",
    "        for attribute in first_node_layer:\n",
    "            #Create first NodeNode(attribute, parent = leader_node) layer\n",
    "            attribute = Node(first_node_layer[index], parent = leader_node)\n",
    "            attribute_list.append(str(attribute))\n",
    "            #print(attribute.name)\n",
    "\n",
    "            if attribute.name == first_node_layer[index]:\n",
    "                if len(second_dict.get(first_node_layer[index])) == 1:\n",
    "                    #len == 1\"\n",
    "                    second_attribute = Node([*second_dict.get(first_node_layer[index]).keys()][0] ,parent = attribute)\n",
    "                    #print(\"Second attribute \",second_attribute)\n",
    "\n",
    "                    if len([*second_dict.get(first_node_layer[index])[second_attribute.name].keys()]) == 1:\n",
    "                        (\"Err\")\n",
    "                    else:\n",
    "                        for idx in range(0,2):\n",
    "                            third_attribute = Node([*second_dict.get(first_node_layer[index])[second_attribute.name].keys()][idx],parent = second_attribute)\n",
    "                            #print(\"third attribute: \",third_attribute)\n",
    "\n",
    "                            if third_attribute.name == [*second_dict.get(first_node_layer[index])[second_attribute.name].keys()][idx]:\n",
    "                                second_value = Node(\"Class: {}\".format(second_dict.get(first_node_layer[index])[second_attribute.name][third_attribute.name]), parent = third_attribute)\n",
    "                                #print(second_value)\n",
    "\n",
    "                else:\n",
    "                    value = Node(\"Class: {}\".format(second_dict.get(attribute.name)), parent = attribute)\n",
    "                    #print(value)\n",
    "            #print(attribute)\n",
    "            index += 1\n",
    "        \n",
    "        ''' Vykreslovanie stromu graficky + export do .png  '''\n",
    "        for pre, fill, node in RenderTree(leader_node):\n",
    "            print(\"%s%s\" % (pre, node.name))\n",
    "            \n",
    "        DotExporter(leader_node).to_picture(\"id3_tree.png\")\n",
    "    \n",
    "        return tree"
   ]
  },
  {
   "cell_type": "code",
   "execution_count": 29,
   "metadata": {},
   "outputs": [],
   "source": [
    "id3 = ID3(\"tennis.csv\")"
   ]
  },
  {
   "cell_type": "code",
   "execution_count": 30,
   "metadata": {},
   "outputs": [
    {
     "name": "stdout",
     "output_type": "stream",
     "text": [
      "dict_keys(['outlook'])\n",
      "outlook\n",
      "├── Overcast\n",
      "│   └── Class: Yes\n",
      "├── Rain\n",
      "│   └── wind\n",
      "│       ├── Strong\n",
      "│       │   └── Class: No\n",
      "│       └── Weak\n",
      "│           └── Class: Yes\n",
      "└── Sunny\n",
      "    └── humidity\n",
      "        ├── High\n",
      "        │   └── Class: No\n",
      "        └── Normal\n",
      "            └── Class: Yes\n"
     ]
    },
    {
     "data": {
      "text/plain": [
       "{'outlook': {'Overcast': 'Yes',\n",
       "  'Rain': {'wind': {'Strong': 'No', 'Weak': 'Yes'}},\n",
       "  'Sunny': {'humidity': {'High': 'No', 'Normal': 'Yes'}}}}"
      ]
     },
     "execution_count": 30,
     "metadata": {},
     "output_type": "execute_result"
    }
   ],
   "source": [
    "id3.create_tree()"
   ]
  },
  {
   "cell_type": "code",
   "execution_count": 24,
   "metadata": {},
   "outputs": [
    {
     "data": {
      "text/plain": [
       "['outlook', 'temp', 'humidity', 'wind', 'play']"
      ]
     },
     "execution_count": 24,
     "metadata": {},
     "output_type": "execute_result"
    }
   ],
   "source": [
    "id3.attributes"
   ]
  },
  {
   "cell_type": "code",
   "execution_count": 19,
   "metadata": {},
   "outputs": [],
   "source": [
    "df2 = pd.read_csv(\"tennis.csv\")"
   ]
  },
  {
   "cell_type": "code",
   "execution_count": null,
   "metadata": {},
   "outputs": [],
   "source": []
  }
 ],
 "metadata": {
  "kernelspec": {
   "display_name": "Python 3",
   "language": "python",
   "name": "python3"
  },
  "language_info": {
   "codemirror_mode": {
    "name": "ipython",
    "version": 3
   },
   "file_extension": ".py",
   "mimetype": "text/x-python",
   "name": "python",
   "nbconvert_exporter": "python",
   "pygments_lexer": "ipython3",
   "version": "3.8.5"
  }
 },
 "nbformat": 4,
 "nbformat_minor": 4
}
